{
  "nbformat": 4,
  "nbformat_minor": 0,
  "metadata": {
    "colab": {
      "provenance": [],
      "authorship_tag": "ABX9TyMu5V5qqBkhR5r9Z+FHyGUQ",
      "include_colab_link": true
    },
    "kernelspec": {
      "name": "python3",
      "display_name": "Python 3"
    },
    "language_info": {
      "name": "python"
    }
  },
  "cells": [
    {
      "cell_type": "markdown",
      "metadata": {
        "id": "view-in-github",
        "colab_type": "text"
      },
      "source": [
        "<a href=\"https://colab.research.google.com/github/Aarushi900/Grey-Scale-Convertor/blob/main/GreyScaleConvertor.ipynb\" target=\"_parent\"><img src=\"https://colab.research.google.com/assets/colab-badge.svg\" alt=\"Open In Colab\"/></a>"
      ]
    },
    {
      "cell_type": "markdown",
      "source": [
        "# Grey Scale Convertor"
      ],
      "metadata": {
        "id": "TGb1UyuX5-LI"
      }
    },
    {
      "cell_type": "markdown",
      "source": [
        "We use OpenCV library to convert all the images in the input folder into grey scale images and then store it into output folder."
      ],
      "metadata": {
        "id": "seK208d_6Fya"
      }
    },
    {
      "cell_type": "markdown",
      "source": [
        "libraries used"
      ],
      "metadata": {
        "id": "yGush6Fg6i06"
      }
    },
    {
      "cell_type": "code",
      "execution_count": null,
      "metadata": {
        "id": "z6Z8WD2L55YN"
      },
      "outputs": [],
      "source": [
        "import cv2\n",
        "import os\n",
        "from zipfile import ZipFile\n",
        "from google.colab import files"
      ]
    },
    {
      "cell_type": "code",
      "source": [
        "! pip install simple_image_download\n"
      ],
      "metadata": {
        "id": "Ne__0vmz7top",
        "colab": {
          "base_uri": "https://localhost:8080/"
        },
        "outputId": "e701878a-0452-4c2a-99c1-67201fd47e62"
      },
      "execution_count": null,
      "outputs": [
        {
          "output_type": "stream",
          "name": "stdout",
          "text": [
            "Requirement already satisfied: simple_image_download in /usr/local/lib/python3.10/dist-packages (0.2)\n",
            "Requirement already satisfied: requests in /usr/local/lib/python3.10/dist-packages (from simple_image_download) (2.27.1)\n",
            "Requirement already satisfied: urllib3<1.27,>=1.21.1 in /usr/local/lib/python3.10/dist-packages (from requests->simple_image_download) (1.26.16)\n",
            "Requirement already satisfied: certifi>=2017.4.17 in /usr/local/lib/python3.10/dist-packages (from requests->simple_image_download) (2023.5.7)\n",
            "Requirement already satisfied: charset-normalizer~=2.0.0 in /usr/local/lib/python3.10/dist-packages (from requests->simple_image_download) (2.0.12)\n",
            "Requirement already satisfied: idna<4,>=2.5 in /usr/local/lib/python3.10/dist-packages (from requests->simple_image_download) (3.4)\n"
          ]
        }
      ]
    },
    {
      "cell_type": "markdown",
      "source": [
        "input and output folders"
      ],
      "metadata": {
        "id": "Qf5hfrS5Zgvi"
      }
    },
    {
      "cell_type": "code",
      "source": [
        "#input folder\n",
        "from simple_image_download import simple_image_download as simp\n",
        "response = simp.simple_image_download\n",
        "limit=100\n",
        "response().download('flowers garden', limit)\n",
        "\n",
        "input_folder=\"/content/simple_images/flowers garden\"\n",
        "input_list=os.listdir(input_folder)"
      ],
      "metadata": {
        "colab": {
          "base_uri": "https://localhost:8080/"
        },
        "id": "vKzscOUsTLPL",
        "outputId": "ce95c423-f98f-4f08-9e9a-f5fe50808b17"
      },
      "execution_count": null,
      "outputs": [
        {
          "output_type": "stream",
          "name": "stdout",
          "text": [
            "HTTPSConnectionPool(host='www.gardentech.com', port=443): Max retries exceeded with url: /-/media/project/oneweb/gardentech/images/blog/how-to-start-a-flower-garden/how-to-start-a-flower-garden-h.jpg (Caused by SSLError(SSLCertVerificationError(1, '[SSL: CERTIFICATE_VERIFY_FAILED] certificate verify failed: unable to get local issuer certificate (_ssl.c:1007)')))\n",
            "HTTPSConnectionPool(host='www.gardentech.com', port=443): Max retries exceeded with url: /-/media/project/oneweb/gardentech/images/blog/growing-beautiful-garden-roses/grow-roses-header-og.jpg (Caused by SSLError(SSLCertVerificationError(1, '[SSL: CERTIFICATE_VERIFY_FAILED] certificate verify failed: unable to get local issuer certificate (_ssl.c:1007)')))\n",
            "HTTPSConnectionPool(host='www.gardentech.com', port=443): Max retries exceeded with url: /-/media/project/oneweb/gardentech/images/blog/how-to-start-a-flower-garden/how-to-start-a-flower-garden-h.jpg (Caused by SSLError(SSLCertVerificationError(1, '[SSL: CERTIFICATE_VERIFY_FAILED] certificate verify failed: unable to get local issuer certificate (_ssl.c:1007)')))\n"
          ]
        }
      ]
    },
    {
      "cell_type": "code",
      "source": [
        "#output folder\n",
        "# os.makedirs(\"output_images\")\n",
        "output_file_path=os.path.abspath(\"output_images\")"
      ],
      "metadata": {
        "id": "chhD9Ma_ZUjk"
      },
      "execution_count": 25,
      "outputs": []
    },
    {
      "cell_type": "markdown",
      "source": [
        "changing to grey scale images"
      ],
      "metadata": {
        "id": "fWlPTQXUZqEJ"
      }
    },
    {
      "cell_type": "code",
      "source": [
        "for image in input_list:\n",
        "  input_path=os.path.join(input_folder,image)\n",
        "  im=cv2.imread(input_path)\n",
        "  if im is not None:\n",
        "    gray_im=cv2.cvtColor(im,cv2.COLOR_BGR2GRAY)\n",
        "    output_file=os.path.join(output_file_path,image)\n",
        "    cv2.imwrite(output_file,gray_im)\n",
        "  else:\n",
        "    print(\"Couldn't convert file {im}\")"
      ],
      "metadata": {
        "colab": {
          "base_uri": "https://localhost:8080/"
        },
        "id": "VtGx5kc4ZtmL",
        "outputId": "bbedcf2f-554f-4080-c4b9-02b9d5c74f81"
      },
      "execution_count": 26,
      "outputs": [
        {
          "output_type": "stream",
          "name": "stdout",
          "text": [
            "Couldn't convert file {im}\n",
            "Couldn't convert file {im}\n",
            "Couldn't convert file {im}\n",
            "Couldn't convert file {im}\n",
            "Couldn't convert file {im}\n",
            "Couldn't convert file {im}\n",
            "Couldn't convert file {im}\n",
            "Couldn't convert file {im}\n",
            "Couldn't convert file {im}\n",
            "Couldn't convert file {im}\n",
            "Couldn't convert file {im}\n",
            "Couldn't convert file {im}\n",
            "Couldn't convert file {im}\n",
            "Couldn't convert file {im}\n"
          ]
        }
      ]
    }
  ]
}